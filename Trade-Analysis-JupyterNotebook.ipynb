{
 "cells": [
  {
   "cell_type": "markdown",
   "id": "643219de-6fe9-45e9-8752-c5a9dfde5553",
   "metadata": {},
   "source": [
    "# Binance Trade Analysis\n",
    "#### Analyze historical trade data from various Binance accounts over 90 days, containing:\n",
    "Port_IDs: Unique identifiers for accounts.\n",
    "Trade_History: Historical trades with details like timestamp, asset, side (BUY/SELL), price, and more.\n",
    "\n",
    "Objective: Analyze the dataset to calculate financial metrics for each account, rank them, and provide a top 20 lis\n"
   ]
  },
  {
   "cell_type": "markdown",
   "id": "0e961330-19b1-46a7-b812-fcffba2ab992",
   "metadata": {},
   "source": [
    "## Import Dependencies "
   ]
  },
  {
   "cell_type": "code",
   "execution_count": 4,
   "id": "36fc7ec4-44a1-49f8-894d-6c84e41451cd",
   "metadata": {},
   "outputs": [],
   "source": [
    "import pandas as pd \n",
    "import numpy as np\n",
    "import os\n",
    "import json"
   ]
  },
  {
   "cell_type": "code",
   "execution_count": 5,
   "id": "2d45f249-5447-4f6a-aac5-53d4ec8323b9",
   "metadata": {},
   "outputs": [],
   "source": [
    "file_path = \"./TRADES_CopyTr_90D_ROI.csv\"\n",
    "trade_data = pd.read_csv(file_path)\n"
   ]
  },
  {
   "cell_type": "markdown",
   "id": "00b78a1f-e1a2-492c-a578-e97b1764849e",
   "metadata": {},
   "source": [
    "# Data Exploration"
   ]
  },
  {
   "cell_type": "code",
   "execution_count": 6,
   "id": "88e2a6c1-5386-4e21-a73e-c4aee71ef11f",
   "metadata": {},
   "outputs": [
    {
     "name": "stdout",
     "output_type": "stream",
     "text": [
      "<class 'pandas.core.frame.DataFrame'>\n",
      "RangeIndex: 150 entries, 0 to 149\n",
      "Data columns (total 2 columns):\n",
      " #   Column         Non-Null Count  Dtype \n",
      "---  ------         --------------  ----- \n",
      " 0   Port_IDs       150 non-null    int64 \n",
      " 1   Trade_History  149 non-null    object\n",
      "dtypes: int64(1), object(1)\n",
      "memory usage: 2.5+ KB\n"
     ]
    },
    {
     "data": {
      "text/html": [
       "<div>\n",
       "<style scoped>\n",
       "    .dataframe tbody tr th:only-of-type {\n",
       "        vertical-align: middle;\n",
       "    }\n",
       "\n",
       "    .dataframe tbody tr th {\n",
       "        vertical-align: top;\n",
       "    }\n",
       "\n",
       "    .dataframe thead th {\n",
       "        text-align: right;\n",
       "    }\n",
       "</style>\n",
       "<table border=\"1\" class=\"dataframe\">\n",
       "  <thead>\n",
       "    <tr style=\"text-align: right;\">\n",
       "      <th></th>\n",
       "      <th>Port_IDs</th>\n",
       "      <th>Trade_History</th>\n",
       "    </tr>\n",
       "  </thead>\n",
       "  <tbody>\n",
       "    <tr>\n",
       "      <th>0</th>\n",
       "      <td>3925368433214965504</td>\n",
       "      <td>[{'time': 1718899656000, 'symbol': 'SOLUSDT', ...</td>\n",
       "    </tr>\n",
       "    <tr>\n",
       "      <th>1</th>\n",
       "      <td>4002413037164645377</td>\n",
       "      <td>[{'time': 1718980078000, 'symbol': 'NEARUSDT',...</td>\n",
       "    </tr>\n",
       "    <tr>\n",
       "      <th>2</th>\n",
       "      <td>3923766029921022977</td>\n",
       "      <td>[{'time': 1718677164000, 'symbol': 'ETHUSDT', ...</td>\n",
       "    </tr>\n",
       "    <tr>\n",
       "      <th>3</th>\n",
       "      <td>3994879592543698688</td>\n",
       "      <td>[{'time': 1718678214000, 'symbol': 'ETHUSDT', ...</td>\n",
       "    </tr>\n",
       "    <tr>\n",
       "      <th>4</th>\n",
       "      <td>3926423286576838657</td>\n",
       "      <td>[{'time': 1718979615000, 'symbol': 'ETHUSDT', ...</td>\n",
       "    </tr>\n",
       "  </tbody>\n",
       "</table>\n",
       "</div>"
      ],
      "text/plain": [
       "              Port_IDs                                      Trade_History\n",
       "0  3925368433214965504  [{'time': 1718899656000, 'symbol': 'SOLUSDT', ...\n",
       "1  4002413037164645377  [{'time': 1718980078000, 'symbol': 'NEARUSDT',...\n",
       "2  3923766029921022977  [{'time': 1718677164000, 'symbol': 'ETHUSDT', ...\n",
       "3  3994879592543698688  [{'time': 1718678214000, 'symbol': 'ETHUSDT', ...\n",
       "4  3926423286576838657  [{'time': 1718979615000, 'symbol': 'ETHUSDT', ..."
      ]
     },
     "execution_count": 6,
     "metadata": {},
     "output_type": "execute_result"
    }
   ],
   "source": [
    "trade_data.info()\n",
    "trade_data.head()"
   ]
  },
  {
   "cell_type": "markdown",
   "id": "1b5be70a-1476-42a8-9db9-1093a58aa416",
   "metadata": {},
   "source": [
    "# Handling Missing Values"
   ]
  },
  {
   "cell_type": "code",
   "execution_count": 7,
   "id": "ea563fb4-81ae-4a09-b2de-d4768ff72196",
   "metadata": {},
   "outputs": [],
   "source": [
    "# Data Parsing\n",
    "import ast\n",
    "\n",
    "# Parse the Trade_History of the first non-null entry to inspect the structure\n",
    "sample_trade_history = trade_data['Trade_History'].dropna().iloc[0]\n",
    "parsed_trade_history = ast.literal_eval(sample_trade_history)\n",
    "\n",
    "# Display the first few trade details for inspection\n",
    "# parsed_trade_history\n"
   ]
  },
  {
   "cell_type": "code",
   "execution_count": 8,
   "id": "60c4df99-76c0-4b99-9383-735a9fcd86be",
   "metadata": {},
   "outputs": [
    {
     "name": "stdout",
     "output_type": "stream",
     "text": [
      "[{'time': 1718899656000, 'symbol': 'SOLUSDT', 'side': 'BUY', 'price': 132.537, 'fee': -0.9940275, 'feeAsset': 'USDT', 'quantity': 1988.055, 'quantityAsset': 'USDT', 'realizedProfit': 0.0, 'realizedProfitAsset': 'USDT', 'baseAsset': 'SOL', 'qty': 15.0, 'positionSide': 'LONG', 'activeBuy': True}, {'time': 1718899618000, 'symbol': 'DOGEUSDT', 'side': 'BUY', 'price': 0.12182, 'fee': -0.27979617, 'feeAsset': 'USDT', 'quantity': 1398.98088, 'quantityAsset': 'USDT', 'realizedProfit': 0.0, 'realizedProf\n"
     ]
    }
   ],
   "source": [
    "# Display the raw string of the sample trade history to identify issues\n",
    "print(sample_trade_history[:500])  # Show the first 500 characters for inspection\n"
   ]
  },
  {
   "cell_type": "markdown",
   "id": "f65ebfce-518b-4ca9-bf8f-397b29cb64fc",
   "metadata": {},
   "source": [
    "## Data Cleaning and Parsing"
   ]
  },
  {
   "cell_type": "code",
   "execution_count": 10,
   "id": "65d28a4a-d2e7-4617-9c3f-ecab7c180c0a",
   "metadata": {},
   "outputs": [],
   "source": [
    "# Enhanced cleaning and parsing function for Trade_History\n",
    "def clean_and_parse_trade_history_advanced(trade_history_str):\n",
    "    try:\n",
    "        # Replace single quotes with double quotes and ensure JSON compliance\n",
    "        cleaned_str = trade_history_str.replace(\"'\", '\"').replace(\"True\", \"true\").replace(\"False\", \"false\").replace(\"None\", \"null\")\n",
    "        return json.loads(cleaned_str)\n",
    "    except json.JSONDecodeError as e:\n",
    "        return None  # Return None if parsing fails\n",
    "\n",
    "# Apply the enhanced cleaning function to the sample trade history\n",
    "parsed_trade_history = clean_and_parse_trade_history_advanced(sample_trade_history)\n",
    "\n",
    "# Display the cleaned and parsed trade history\n",
    "\n",
    "# parsed_trade_history[:5] if parsed_trade_history else \"Parsing failed\"\n",
    "\n"
   ]
  },
  {
   "cell_type": "code",
   "execution_count": 12,
   "id": "43081076-9942-427b-a63b-00037377a13e",
   "metadata": {},
   "outputs": [],
   "source": [
    "# Print the entire raw string of the sample for detailed inspection\n",
    "\n",
    "# print(sample_trade_history)"
   ]
  },
  {
   "cell_type": "code",
   "execution_count": 13,
   "id": "e87e034f-feac-4c8a-9944-6bfe8ca6aa11",
   "metadata": {},
   "outputs": [
    {
     "data": {
      "text/plain": [
       "(149, 150)"
      ]
     },
     "execution_count": 13,
     "metadata": {},
     "output_type": "execute_result"
    }
   ],
   "source": [
    "# Parse all Trade_History entries in the dataset\n",
    "trade_data['Parsed_Trade_History'] = trade_data['Trade_History'].apply(\n",
    "    lambda x: clean_and_parse_trade_history_advanced(x) if pd.notnull(x) else None\n",
    ")\n",
    "\n",
    "# Check the success of parsing and count parsed entries\n",
    "parsed_count = trade_data['Parsed_Trade_History'].notnull().sum()\n",
    "total_entries = len(trade_data)\n",
    "\n",
    "parsed_count, total_entries  # Display the number of successfully parsed entries\n"
   ]
  },
  {
   "cell_type": "markdown",
   "id": "0093c3e3-4262-4fb6-98d9-a36d51282d50",
   "metadata": {},
   "source": [
    "## Calculate Metrics"
   ]
  },
  {
   "cell_type": "code",
   "execution_count": 14,
   "id": "2a246304-891a-442a-8c56-fa75b873e8bf",
   "metadata": {},
   "outputs": [],
   "source": [
    "import numpy as np\n",
    "\n",
    "# Function to calculate metrics for a given trade history\n",
    "def calculate_metrics(trade_history):\n",
    "    if not trade_history:\n",
    "        return None  # Skip if the trade history is missing\n",
    "\n",
    "    # Initialize metrics\n",
    "    realized_profits = []\n",
    "    capital = []\n",
    "    win_positions = 0\n",
    "    total_positions = 0\n",
    "\n",
    "    for trade in trade_history:\n",
    "        realized_profits.append(trade['realizedProfit'])\n",
    "        capital.append(abs(trade['quantity']))\n",
    "        if trade['realizedProfit'] > 0:\n",
    "            win_positions += 1\n",
    "        total_positions += 1\n",
    "\n",
    "    # Convert lists to numpy arrays for calculations\n",
    "    realized_profits = np.array(realized_profits)\n",
    "    capital = np.array(capital)\n",
    "\n",
    "    # Calculate metrics\n",
    "    roi = sum(realized_profits) / sum(capital) if sum(capital) != 0 else 0\n",
    "    pnl = sum(realized_profits)\n",
    "    win_rate = win_positions / total_positions if total_positions > 0 else 0\n",
    "\n",
    "    return {\n",
    "        'ROI': roi,\n",
    "        'PnL': pnl,\n",
    "        'Win Rate': win_rate,\n",
    "        'Win Positions': win_positions,\n",
    "        'Total Positions': total_positions\n",
    "    }\n",
    "\n",
    "# Apply metrics calculation to all accounts\n",
    "trade_data['Metrics'] = trade_data['Parsed_Trade_History'].apply(calculate_metrics)\n",
    "\n",
    "# Expand metrics into separate columns\n",
    "metrics_df = trade_data.dropna(subset=['Metrics']).copy()\n",
    "metrics_df = pd.concat(\n",
    "    [metrics_df.drop(columns=['Metrics']), pd.json_normalize(metrics_df['Metrics'])],\n",
    "    axis=1\n",
    ")\n",
    "\n"
   ]
  },
  {
   "cell_type": "markdown",
   "id": "a884d19e-c347-4b87-ba82-a6709458fd43",
   "metadata": {},
   "source": [
    "## Calculate score"
   ]
  },
  {
   "cell_type": "code",
   "execution_count": 15,
   "id": "ace72ffe-7e55-438d-94b7-5a5cee8796e5",
   "metadata": {},
   "outputs": [
    {
     "data": {
      "text/plain": [
       "('Result-Tables/Financial_Metrics.csv', 'Result-Tables/Top_20_Accounts.csv')"
      ]
     },
     "execution_count": 15,
     "metadata": {},
     "output_type": "execute_result"
    }
   ],
   "source": [
    "# Define a ranking score based on weighted metrics\n",
    "def calculate_score(row):\n",
    "    # Weights for metrics (can be adjusted based on priorities)\n",
    "    weights = {\n",
    "        'ROI': 0.4,\n",
    "        'PnL': 0.3,\n",
    "        'Win Rate': 0.2,\n",
    "        'Win Positions': 0.1\n",
    "    }\n",
    "    return (\n",
    "        row['ROI'] * weights['ROI'] +\n",
    "        row['PnL'] * weights['PnL'] +\n",
    "        row['Win Rate'] * weights['Win Rate'] +\n",
    "        row['Win Positions'] * weights['Win Positions']\n",
    "    )\n",
    "\n",
    "# Add a score column to the dataframe\n",
    "metrics_df['Score'] = metrics_df.apply(calculate_score, axis=1)\n",
    "\n",
    "# Rank the accounts and extract the top 20\n",
    "metrics_df['Rank'] = metrics_df['Score'].rank(ascending=False, method='dense')\n",
    "top_20_accounts = metrics_df.sort_values(by='Score', ascending=False).head(20)\n",
    "\n",
    "# Export the metrics and top 20 accounts to CSV\n",
    "metrics_file_path = 'Result-Tables/Financial_Metrics.csv'\n",
    "top_20_file_path = 'Result-Tables/Top_20_Accounts.csv'\n",
    "\n",
    "metrics_df.to_csv(metrics_file_path, index=False)\n",
    "top_20_accounts.to_csv(top_20_file_path, index=False)\n",
    "\n",
    "metrics_file_path, top_20_file_path\n"
   ]
  },
  {
   "cell_type": "markdown",
   "id": "ee25f844-3837-47bd-917d-57eabc0c71ed",
   "metadata": {},
   "source": [
    "# Output "
   ]
  },
  {
   "cell_type": "code",
   "execution_count": 16,
   "id": "827e3833-607f-4b0c-8dd8-227b433a4d52",
   "metadata": {},
   "outputs": [
    {
     "data": {
      "text/html": [
       "<div>\n",
       "<style scoped>\n",
       "    .dataframe tbody tr th:only-of-type {\n",
       "        vertical-align: middle;\n",
       "    }\n",
       "\n",
       "    .dataframe tbody tr th {\n",
       "        vertical-align: top;\n",
       "    }\n",
       "\n",
       "    .dataframe thead th {\n",
       "        text-align: right;\n",
       "    }\n",
       "</style>\n",
       "<table border=\"1\" class=\"dataframe\">\n",
       "  <thead>\n",
       "    <tr style=\"text-align: right;\">\n",
       "      <th></th>\n",
       "      <th>Port_IDs</th>\n",
       "      <th>Trade_History</th>\n",
       "      <th>Parsed_Trade_History</th>\n",
       "      <th>ROI</th>\n",
       "      <th>PnL</th>\n",
       "      <th>Win Rate</th>\n",
       "      <th>Win Positions</th>\n",
       "      <th>Total Positions</th>\n",
       "      <th>Score</th>\n",
       "      <th>Rank</th>\n",
       "    </tr>\n",
       "  </thead>\n",
       "  <tbody>\n",
       "    <tr>\n",
       "      <th>0</th>\n",
       "      <td>3.925368e+18</td>\n",
       "      <td>[{'time': 1718899656000, 'symbol': 'SOLUSDT', ...</td>\n",
       "      <td>[{'time': 1718899656000, 'symbol': 'SOLUSDT', ...</td>\n",
       "      <td>0.003753</td>\n",
       "      <td>6789.436739</td>\n",
       "      <td>0.333333</td>\n",
       "      <td>486.0</td>\n",
       "      <td>1458.0</td>\n",
       "      <td>2085.499189</td>\n",
       "      <td>24.0</td>\n",
       "    </tr>\n",
       "    <tr>\n",
       "      <th>1</th>\n",
       "      <td>4.002413e+18</td>\n",
       "      <td>[{'time': 1718980078000, 'symbol': 'NEARUSDT',...</td>\n",
       "      <td>[{'time': 1718980078000, 'symbol': 'NEARUSDT',...</td>\n",
       "      <td>0.024922</td>\n",
       "      <td>3686.969761</td>\n",
       "      <td>0.185764</td>\n",
       "      <td>107.0</td>\n",
       "      <td>576.0</td>\n",
       "      <td>1116.838050</td>\n",
       "      <td>53.0</td>\n",
       "    </tr>\n",
       "    <tr>\n",
       "      <th>2</th>\n",
       "      <td>3.923766e+18</td>\n",
       "      <td>[{'time': 1718677164000, 'symbol': 'ETHUSDT', ...</td>\n",
       "      <td>[{'time': 1718677164000, 'symbol': 'ETHUSDT', ...</td>\n",
       "      <td>0.001565</td>\n",
       "      <td>772.729032</td>\n",
       "      <td>0.285147</td>\n",
       "      <td>359.0</td>\n",
       "      <td>1259.0</td>\n",
       "      <td>267.776365</td>\n",
       "      <td>133.0</td>\n",
       "    </tr>\n",
       "    <tr>\n",
       "      <th>3</th>\n",
       "      <td>3.994880e+18</td>\n",
       "      <td>[{'time': 1718678214000, 'symbol': 'ETHUSDT', ...</td>\n",
       "      <td>[{'time': 1718678214000, 'symbol': 'ETHUSDT', ...</td>\n",
       "      <td>0.008283</td>\n",
       "      <td>3658.765062</td>\n",
       "      <td>0.552833</td>\n",
       "      <td>361.0</td>\n",
       "      <td>653.0</td>\n",
       "      <td>1133.843399</td>\n",
       "      <td>52.0</td>\n",
       "    </tr>\n",
       "    <tr>\n",
       "      <th>4</th>\n",
       "      <td>3.926423e+18</td>\n",
       "      <td>[{'time': 1718979615000, 'symbol': 'ETHUSDT', ...</td>\n",
       "      <td>[{'time': 1718979615000, 'symbol': 'ETHUSDT', ...</td>\n",
       "      <td>0.001355</td>\n",
       "      <td>1309.459960</td>\n",
       "      <td>0.341004</td>\n",
       "      <td>163.0</td>\n",
       "      <td>478.0</td>\n",
       "      <td>409.206731</td>\n",
       "      <td>125.0</td>\n",
       "    </tr>\n",
       "  </tbody>\n",
       "</table>\n",
       "</div>"
      ],
      "text/plain": [
       "       Port_IDs                                      Trade_History  \\\n",
       "0  3.925368e+18  [{'time': 1718899656000, 'symbol': 'SOLUSDT', ...   \n",
       "1  4.002413e+18  [{'time': 1718980078000, 'symbol': 'NEARUSDT',...   \n",
       "2  3.923766e+18  [{'time': 1718677164000, 'symbol': 'ETHUSDT', ...   \n",
       "3  3.994880e+18  [{'time': 1718678214000, 'symbol': 'ETHUSDT', ...   \n",
       "4  3.926423e+18  [{'time': 1718979615000, 'symbol': 'ETHUSDT', ...   \n",
       "\n",
       "                                Parsed_Trade_History       ROI          PnL  \\\n",
       "0  [{'time': 1718899656000, 'symbol': 'SOLUSDT', ...  0.003753  6789.436739   \n",
       "1  [{'time': 1718980078000, 'symbol': 'NEARUSDT',...  0.024922  3686.969761   \n",
       "2  [{'time': 1718677164000, 'symbol': 'ETHUSDT', ...  0.001565   772.729032   \n",
       "3  [{'time': 1718678214000, 'symbol': 'ETHUSDT', ...  0.008283  3658.765062   \n",
       "4  [{'time': 1718979615000, 'symbol': 'ETHUSDT', ...  0.001355  1309.459960   \n",
       "\n",
       "   Win Rate  Win Positions  Total Positions        Score   Rank  \n",
       "0  0.333333          486.0           1458.0  2085.499189   24.0  \n",
       "1  0.185764          107.0            576.0  1116.838050   53.0  \n",
       "2  0.285147          359.0           1259.0   267.776365  133.0  \n",
       "3  0.552833          361.0            653.0  1133.843399   52.0  \n",
       "4  0.341004          163.0            478.0   409.206731  125.0  "
      ]
     },
     "execution_count": 16,
     "metadata": {},
     "output_type": "execute_result"
    }
   ],
   "source": [
    "metrics_df.head()"
   ]
  },
  {
   "cell_type": "code",
   "execution_count": 17,
   "id": "3958274c-fab8-4615-82fe-e98979062475",
   "metadata": {},
   "outputs": [
    {
     "data": {
      "text/html": [
       "<div>\n",
       "<style scoped>\n",
       "    .dataframe tbody tr th:only-of-type {\n",
       "        vertical-align: middle;\n",
       "    }\n",
       "\n",
       "    .dataframe tbody tr th {\n",
       "        vertical-align: top;\n",
       "    }\n",
       "\n",
       "    .dataframe thead th {\n",
       "        text-align: right;\n",
       "    }\n",
       "</style>\n",
       "<table border=\"1\" class=\"dataframe\">\n",
       "  <thead>\n",
       "    <tr style=\"text-align: right;\">\n",
       "      <th></th>\n",
       "      <th>Port_IDs</th>\n",
       "      <th>Trade_History</th>\n",
       "      <th>Parsed_Trade_History</th>\n",
       "      <th>ROI</th>\n",
       "      <th>PnL</th>\n",
       "      <th>Win Rate</th>\n",
       "      <th>Win Positions</th>\n",
       "      <th>Total Positions</th>\n",
       "      <th>Score</th>\n",
       "      <th>Rank</th>\n",
       "    </tr>\n",
       "  </thead>\n",
       "  <tbody>\n",
       "    <tr>\n",
       "      <th>82</th>\n",
       "      <td>4.020205e+18</td>\n",
       "      <td>[{'time': 1718982983000, 'symbol': 'BTCUSDT', ...</td>\n",
       "      <td>[{'time': 1718982983000, 'symbol': 'BTCUSDT', ...</td>\n",
       "      <td>0.003116</td>\n",
       "      <td>71998.855953</td>\n",
       "      <td>0.329421</td>\n",
       "      <td>1993.0</td>\n",
       "      <td>6050.0</td>\n",
       "      <td>21799.023916</td>\n",
       "      <td>1.0</td>\n",
       "    </tr>\n",
       "    <tr>\n",
       "      <th>126</th>\n",
       "      <td>4.040383e+18</td>\n",
       "      <td>[{'time': 1718848604000, 'symbol': 'MINAUSDT',...</td>\n",
       "      <td>[{'time': 1718848604000, 'symbol': 'MINAUSDT',...</td>\n",
       "      <td>0.005437</td>\n",
       "      <td>42574.473679</td>\n",
       "      <td>0.523220</td>\n",
       "      <td>2366.0</td>\n",
       "      <td>4522.0</td>\n",
       "      <td>13009.048922</td>\n",
       "      <td>2.0</td>\n",
       "    </tr>\n",
       "    <tr>\n",
       "      <th>23</th>\n",
       "      <td>4.021669e+18</td>\n",
       "      <td>[{'time': 1718989823000, 'symbol': 'BTCUSDT', ...</td>\n",
       "      <td>[{'time': 1718989823000, 'symbol': 'BTCUSDT', ...</td>\n",
       "      <td>0.004044</td>\n",
       "      <td>26427.331592</td>\n",
       "      <td>0.313912</td>\n",
       "      <td>528.0</td>\n",
       "      <td>1682.0</td>\n",
       "      <td>7981.063878</td>\n",
       "      <td>3.0</td>\n",
       "    </tr>\n",
       "    <tr>\n",
       "      <th>64</th>\n",
       "      <td>3.960874e+18</td>\n",
       "      <td>[{'time': 1718972086000, 'symbol': 'BTCUSDT', ...</td>\n",
       "      <td>[{'time': 1718972086000, 'symbol': 'BTCUSDT', ...</td>\n",
       "      <td>0.002333</td>\n",
       "      <td>19567.471286</td>\n",
       "      <td>0.515684</td>\n",
       "      <td>1233.0</td>\n",
       "      <td>2391.0</td>\n",
       "      <td>5993.645456</td>\n",
       "      <td>4.0</td>\n",
       "    </tr>\n",
       "    <tr>\n",
       "      <th>118</th>\n",
       "      <td>3.943534e+18</td>\n",
       "      <td>[{'time': 1718899769000, 'symbol': 'RONINUSDT'...</td>\n",
       "      <td>[{'time': 1718899769000, 'symbol': 'RONINUSDT'...</td>\n",
       "      <td>0.010992</td>\n",
       "      <td>18015.997370</td>\n",
       "      <td>0.613971</td>\n",
       "      <td>2540.0</td>\n",
       "      <td>4137.0</td>\n",
       "      <td>5658.926402</td>\n",
       "      <td>5.0</td>\n",
       "    </tr>\n",
       "  </tbody>\n",
       "</table>\n",
       "</div>"
      ],
      "text/plain": [
       "         Port_IDs                                      Trade_History  \\\n",
       "82   4.020205e+18  [{'time': 1718982983000, 'symbol': 'BTCUSDT', ...   \n",
       "126  4.040383e+18  [{'time': 1718848604000, 'symbol': 'MINAUSDT',...   \n",
       "23   4.021669e+18  [{'time': 1718989823000, 'symbol': 'BTCUSDT', ...   \n",
       "64   3.960874e+18  [{'time': 1718972086000, 'symbol': 'BTCUSDT', ...   \n",
       "118  3.943534e+18  [{'time': 1718899769000, 'symbol': 'RONINUSDT'...   \n",
       "\n",
       "                                  Parsed_Trade_History       ROI  \\\n",
       "82   [{'time': 1718982983000, 'symbol': 'BTCUSDT', ...  0.003116   \n",
       "126  [{'time': 1718848604000, 'symbol': 'MINAUSDT',...  0.005437   \n",
       "23   [{'time': 1718989823000, 'symbol': 'BTCUSDT', ...  0.004044   \n",
       "64   [{'time': 1718972086000, 'symbol': 'BTCUSDT', ...  0.002333   \n",
       "118  [{'time': 1718899769000, 'symbol': 'RONINUSDT'...  0.010992   \n",
       "\n",
       "              PnL  Win Rate  Win Positions  Total Positions         Score  \\\n",
       "82   71998.855953  0.329421         1993.0           6050.0  21799.023916   \n",
       "126  42574.473679  0.523220         2366.0           4522.0  13009.048922   \n",
       "23   26427.331592  0.313912          528.0           1682.0   7981.063878   \n",
       "64   19567.471286  0.515684         1233.0           2391.0   5993.645456   \n",
       "118  18015.997370  0.613971         2540.0           4137.0   5658.926402   \n",
       "\n",
       "     Rank  \n",
       "82    1.0  \n",
       "126   2.0  \n",
       "23    3.0  \n",
       "64    4.0  \n",
       "118   5.0  "
      ]
     },
     "execution_count": 17,
     "metadata": {},
     "output_type": "execute_result"
    }
   ],
   "source": [
    "top_20_accounts.head()"
   ]
  },
  {
   "cell_type": "code",
   "execution_count": null,
   "id": "314cd0b4-b287-475f-8b61-8e3a3153a35a",
   "metadata": {},
   "outputs": [],
   "source": []
  },
  {
   "cell_type": "code",
   "execution_count": null,
   "id": "d3ca6ca9-4328-49a0-bfa0-7d02f1dd14de",
   "metadata": {},
   "outputs": [],
   "source": []
  },
  {
   "cell_type": "code",
   "execution_count": null,
   "id": "a5acc8eb-8a40-45cf-b5a3-e09d66fcbcca",
   "metadata": {},
   "outputs": [],
   "source": []
  },
  {
   "cell_type": "code",
   "execution_count": null,
   "id": "1511c089-c4d3-48e2-852c-89e5fb68c555",
   "metadata": {},
   "outputs": [],
   "source": []
  }
 ],
 "metadata": {
  "kernelspec": {
   "display_name": "Python 3 (ipykernel)",
   "language": "python",
   "name": "python3"
  },
  "language_info": {
   "codemirror_mode": {
    "name": "ipython",
    "version": 3
   },
   "file_extension": ".py",
   "mimetype": "text/x-python",
   "name": "python",
   "nbconvert_exporter": "python",
   "pygments_lexer": "ipython3",
   "version": "3.12.2"
  }
 },
 "nbformat": 4,
 "nbformat_minor": 5
}
